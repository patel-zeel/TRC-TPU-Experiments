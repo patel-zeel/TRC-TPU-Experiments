{
 "cells": [
  {
   "cell_type": "code",
   "execution_count": 1,
   "metadata": {},
   "outputs": [],
   "source": [
    "import numpy as np\n",
    "import jax\n",
    "from time import time"
   ]
  },
  {
   "cell_type": "markdown",
   "metadata": {},
   "source": [
    "## TPU"
   ]
  },
  {
   "cell_type": "code",
   "execution_count": 2,
   "metadata": {},
   "outputs": [
    {
     "name": "stdout",
     "output_type": "stream",
     "text": [
      "672 ms ± 0 ns per loop (mean ± std. dev. of 1 run, 1 loop each)\n",
      "12.7 ms ± 0 ns per loop (mean ± std. dev. of 1 run, 1 loop each)\n"
     ]
    }
   ],
   "source": [
    "@jax.jit\n",
    "def f_tpu(x):\n",
    "    return x @ x\n",
    "\n",
    "key = jax.random.PRNGKey(0)\n",
    "key, subkey = jax.random.split(key)\n",
    "x1 = jax.random.normal(key, (5000, 5000))\n",
    "x2 = jax.random.normal(subkey, (5000, 5000))\n",
    "\n",
    "%timeit -n1 -r1 f_tpu(x1).block_until_ready()\n",
    "%timeit -n1 -r1 f_tpu(x2).block_until_ready()"
   ]
  },
  {
   "cell_type": "markdown",
   "metadata": {},
   "source": [
    "## CPU (numpy)"
   ]
  },
  {
   "cell_type": "code",
   "execution_count": 3,
   "metadata": {},
   "outputs": [
    {
     "name": "stdout",
     "output_type": "stream",
     "text": [
      "271 ms ± 0 ns per loop (mean ± std. dev. of 1 run, 1 loop each)\n",
      "212 ms ± 0 ns per loop (mean ± std. dev. of 1 run, 1 loop each)\n"
     ]
    }
   ],
   "source": [
    "def f_cpu(x):\n",
    "    return x @ x\n",
    "\n",
    "x1 = np.random.normal(size=(5000, 5000))\n",
    "x2 = np.random.normal(size=(5000, 5000))\n",
    "\n",
    "%timeit -n1 -r1 f_cpu(x1)\n",
    "%timeit -n1 -r1 f_cpu(x2)"
   ]
  },
  {
   "cell_type": "markdown",
   "metadata": {},
   "source": [
    "## CPU (jax.numpy)"
   ]
  },
  {
   "cell_type": "code",
   "execution_count": 4,
   "metadata": {},
   "outputs": [
    {
     "name": "stdout",
     "output_type": "stream",
     "text": [
      "210 ms ± 0 ns per loop (mean ± std. dev. of 1 run, 1 loop each)\n",
      "99.6 ms ± 0 ns per loop (mean ± std. dev. of 1 run, 1 loop each)\n"
     ]
    }
   ],
   "source": [
    "@jax.jit\n",
    "def f_jnp(x):\n",
    "    return x @ x\n",
    "\n",
    "cpu = jax.devices('cpu')[0]\n",
    "\n",
    "x1 = jax.random.normal(key, (5000, 5000))\n",
    "x1 = jax.device_put(x1, cpu)\n",
    "x2 = jax.random.normal(subkey, (5000, 5000))\n",
    "x2 = jax.device_put(x2, cpu)\n",
    "\n",
    "%timeit -n1 -r1 f_jnp(x1).block_until_ready()\n",
    "%timeit -n1 -r1 f_jnp(x2).block_until_ready()"
   ]
  }
 ],
 "metadata": {
  "interpreter": {
   "hash": "31f2aee4e71d21fbe5cf8b01ff0e069b9275f58929596ceb00d14d90e3e16cd6"
  },
  "kernelspec": {
   "display_name": "Python 3 (ipykernel)",
   "language": "python",
   "name": "python3"
  },
  "language_info": {
   "codemirror_mode": {
    "name": "ipython",
    "version": 3
   },
   "file_extension": ".py",
   "mimetype": "text/x-python",
   "name": "python",
   "nbconvert_exporter": "python",
   "pygments_lexer": "ipython3",
   "version": "3.9.7"
  }
 },
 "nbformat": 4,
 "nbformat_minor": 2
}
